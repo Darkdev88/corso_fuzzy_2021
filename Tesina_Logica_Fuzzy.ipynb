{
  "nbformat": 4,
  "nbformat_minor": 0,
  "metadata": {
    "colab": {
      "name": "Tesina Logica Fuzzy.ipynb",
      "provenance": [],
      "collapsed_sections": [],
      "authorship_tag": "ABX9TyOZZth2FRcYVP4kCAOi5SvT",
      "include_colab_link": true
    },
    "kernelspec": {
      "display_name": "Python 3",
      "name": "python3"
    }
  },
  "cells": [
    {
      "cell_type": "markdown",
      "metadata": {
        "id": "view-in-github",
        "colab_type": "text"
      },
      "source": [
        "<a href=\"https://colab.research.google.com/github/Darkdev88/corso_fuzzy_2021/blob/main/Tesina_Logica_Fuzzy.ipynb\" target=\"_parent\"><img src=\"https://colab.research.google.com/assets/colab-badge.svg\" alt=\"Open In Colab\"/></a>"
      ]
    },
    {
      "cell_type": "markdown",
      "metadata": {
        "id": "qK1Mg4J2YM3I"
      },
      "source": [
        "**Introduzione**\r\n",
        "\r\n",
        "La logica è nata dalla necessità di formalizzare il linguaggio parlato. \r\n",
        "In passato, quando si andava a porre un quesito o ad esporre una situazione, si incappava sempre nel solito problema: la difficoltà nell'esprimere un'idea nel modo più oggettivo possibile.\r\n",
        "Per esprimere i formalismi più basilari furono introdotti i sillogismi.\r\n",
        "Nel momento in cui entrò in gioco la matematica però, si riscontrarono importanti innovazioni anche dal punto di vista linguistico.\r\n",
        "Un linguaggio unico però, che mettesse tutti d'accordo, ancora non esisteva.\r\n",
        "Fu Boole, il primo a formalizzare e a studiare la logica da un punto di vista algebrico tra il 1847 e il 1850.\r\n",
        "Suoi gli enunciati che spiegano la prassi per la trascrizione delle formule e la riproduzione dei connettivi.\r\n",
        "La logica matematica quindi, inizialmente si focalizzò sull'aspetto sintattico della lingua, ossia sul modo in cui si descrivono le cose.\r\n",
        "Boole in particolare introdusse algebre costituite da due estremi: 0 e 1. Lo \"0\" va interpretato come falso e l' \"1\" come vero.\r\n",
        "In questo modo abbiamo un formalismo e possiamo parlare di più oggetti e la logica inizia ad avere un suo ruolo attivo nella matematica.\r\n",
        "La Logica proposizionale si occupa invece di studiare la verità e la falsità delle affermazioni, che possono essere formulate con l'ausilio della matematica. \r\n",
        "In ambito logico, si definisce \"proposizione\" qualsiasi affermazione di cui si possa determinare un valore di verità (vero o falso), senza che ciò comporti ambiguità.\r\n",
        "In seguito Lukasiewicz, a partire dalla Logica a due valori introdusse un nuovo concetto, in virtù del quale un costrutto deve fornirmi un valore di verità diverso da 0 e 1. \r\n",
        "Introdusse inoltre il \"non lo so\"; vale a dire il terzo valore compreso tra 0 e 1; quello tra bianco assoluto e nero assoluto a cui fanno riferimento tutte le gradazioni di grigio, ossia infiniti valori.\r\n",
        "La logica fuzzy è invece una branca della matematica in cui si può attribuire a ciascuna proposizione un grado di verità diverso da 0 e 1 e compreso tra di loro. È una logica polivalente, ossia un'estensione della logica booleana. \r\n",
        "È legata alla \"Teoria degli insiemi sfocati con grado di verità o valore di appartenenza\" con cui si analizza quanto è vera una proprietà che può essere, oltre che vera (= a valore 1) o falsa (= a valore 0) come nella logica classica, anche parzialmente vera e parzialmente falsa.\r\n",
        " \r\n"
      ]
    },
    {
      "cell_type": "markdown",
      "metadata": {
        "id": "bk5pepvdlH3s"
      },
      "source": [
        "**Connettivi Logici in Python**"
      ]
    },
    {
      "cell_type": "code",
      "metadata": {
        "id": "yVTY1Qr9kPQS"
      },
      "source": [
        "def Congiunzione(var1,var2):\r\n",
        "  return var1 and var2\r\n",
        "\r\n",
        "def Disgiunzione(var1,var2):\r\n",
        "  return var1 or var2\r\n",
        "\r\n",
        "def ImplicazioneSemplice(ipotesi,tesi):\r\n",
        "  return (not ipotesi or tesi)\r\n",
        "\r\n",
        "def oppure(var1,var2):\r\n",
        "  return (not var1 and var2) or (var1 and not var2)\r\n",
        "\r\n"
      ],
      "execution_count": 78,
      "outputs": []
    },
    {
      "cell_type": "code",
      "metadata": {
        "id": "nhZBNspPS-6C"
      },
      "source": [
        "def stampa_tabella(formula):\r\n",
        "  valori_possibili = (False, True)\r\n",
        "\r\n",
        "  for A in valori_possibili:\r\n",
        "    for B in valori_possibili:\r\n",
        "      print(f'{formula(A,B)}')"
      ],
      "execution_count": 79,
      "outputs": []
    },
    {
      "cell_type": "code",
      "metadata": {
        "colab": {
          "base_uri": "https://localhost:8080/"
        },
        "id": "yE5c1sQNVAND",
        "outputId": "8dcd377c-5e0a-4705-a789-1e6a8ea66bd7"
      },
      "source": [
        "stampa_tabella(oppure)"
      ],
      "execution_count": 80,
      "outputs": [
        {
          "output_type": "stream",
          "text": [
            "False\n",
            "True\n",
            "True\n",
            "False\n"
          ],
          "name": "stdout"
        }
      ]
    },
    {
      "cell_type": "markdown",
      "metadata": {
        "id": "Yjs0Rt8_se8X"
      },
      "source": [
        "**Tabella di verità**\r\n",
        "\r\n",
        "Si è preferito utilizzare questo codice dal momento che è quello risulta essere più chiaro ad un programmatore evitando interpretazioni errate.\r\n",
        "Più in dettaglio è stata utilizzata la funzione AND.\r\n",
        "Va previsato inoltre che l' utilizzo di due cicli for risulti particolarmente dispendioso per python dove non vengono dichiarate le variabili a differenza degli altri linguaggi, ad esempio C."
      ]
    },
    {
      "cell_type": "code",
      "metadata": {
        "colab": {
          "base_uri": "https://localhost:8080/"
        },
        "id": "xfx9aZp7sxaA",
        "outputId": "fa9397d1-f626-4eab-dcf4-38dfc5aa3207"
      },
      "source": [
        "valori_possibili = (False, True)\r\n",
        "\r\n",
        "for A in valori_possibili:\r\n",
        "  for B in valori_possibili:\r\n",
        "    print(f'{A} AND {B} = {A and B}')"
      ],
      "execution_count": null,
      "outputs": [
        {
          "output_type": "stream",
          "text": [
            "False AND False = False\n",
            "False AND True = False\n",
            "True AND False = False\n",
            "True AND True = True\n"
          ],
          "name": "stdout"
        }
      ]
    },
    {
      "cell_type": "markdown",
      "metadata": {
        "id": "bgs_EOAPDVQT"
      },
      "source": [
        "**Funzioni di verità delle seguenti formule :**\r\n",
        "\r\n",
        "**A or (not A)**\r\n",
        "\r\n",
        "**not A -> B**"
      ]
    },
    {
      "cell_type": "code",
      "metadata": {
        "id": "Cgs1SAh3IVgP"
      },
      "source": [
        "#Funzione 1\r\n",
        "def uno(var1): \r\n",
        "  return var1 or (not var1)\r\n",
        "\r\n",
        "#Funzione 2\r\n",
        "def due(var1, var2):\r\n",
        "  return (not (not var1) or var2)"
      ],
      "execution_count": 75,
      "outputs": []
    },
    {
      "cell_type": "code",
      "metadata": {
        "id": "yL1I23oNH8d5"
      },
      "source": [
        "def stampa_tabella(formula):\r\n",
        "  valori = (0,1)\r\n",
        " \r\n",
        "  print('\\nTabella di verita\\':')\r\n",
        "  if formula == 'uno':\r\n",
        "    for A in valori:\r\n",
        "      print(f'{A} | {eval(formula+\"(A)\")}')\r\n",
        "\r\n",
        "  else:               \r\n",
        "    for A in valori:\r\n",
        "      for B in valori:\r\n",
        "        print(f' {A} | {B} | {eval(formula+\"(A,B)\")}')"
      ],
      "execution_count": 76,
      "outputs": []
    },
    {
      "cell_type": "code",
      "metadata": {
        "colab": {
          "base_uri": "https://localhost:8080/"
        },
        "id": "otv73auyIbvk",
        "outputId": "0222522f-47cf-4a45-d3e7-d3e213621ce3"
      },
      "source": [
        "print('Stampa Funzione')\r\n",
        "\r\n",
        "\r\n",
        "risposta = 's'#per terminare il while\r\n",
        "while risposta == 's':\r\n",
        "  #input utente\r\n",
        "  operazione = input('Quale delle due operazioni vuoi effettuare ? \"uno\" \"due\"')\r\n",
        "    \r\n",
        "  #concateno le stringhe per richiamare delle funzioni\r\n",
        "  stampa_tabella(operazione)\r\n",
        "  risposta = input('\\nUn\\'altra Operazione? Si(s), no(n)')\r\n",
        "  print('\\n\\nGrazie per avermi utilizzato!')\r\n"
      ],
      "execution_count": 77,
      "outputs": [
        {
          "output_type": "stream",
          "text": [
            "Stampa Funzione\n",
            "Quale delle due operazioni vuoi effettuare ? \"uno\" \"due\"uno\n",
            "\n",
            "Tabella di verita':\n",
            "0 | True\n",
            "1 | 1\n",
            "\n",
            "Un'altra Operazione? Si(s), no(n)s\n",
            "\n",
            "\n",
            "Grazie per avermi utilizzato!\n",
            "Quale delle due operazioni vuoi effettuare ? \"uno\" \"due\"due\n",
            "\n",
            "Tabella di verita':\n",
            " 0 | 0 | 0\n",
            " 0 | 1 | 1\n",
            " 1 | 0 | True\n",
            " 1 | 1 | True\n",
            "\n",
            "Un'altra Operazione? Si(s), no(n)no\n",
            "\n",
            "\n",
            "Grazie per avermi utilizzato!\n"
          ],
          "name": "stdout"
        }
      ]
    }
  ]
}